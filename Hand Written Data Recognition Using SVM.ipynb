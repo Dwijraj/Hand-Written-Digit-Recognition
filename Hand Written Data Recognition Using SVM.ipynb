{
 "cells": [
  {
   "cell_type": "code",
   "execution_count": 1,
   "metadata": {},
   "outputs": [
    {
     "name": "stdout",
     "output_type": "stream",
     "text": [
      "(50000, 784)\n",
      "(50000,)\n",
      "Training start time 1509893026.5239854\n",
      "Training End Time time 1509893646.6552148\n",
      "Time taken 620.1322326660156 seconds\n",
      "Prediction start time 1509893646.656218\n",
      "Train_Accuracy 0.94158\n",
      "Prediction time taken 1014.6648147106171 seconds\n"
     ]
    }
   ],
   "source": [
    "#Hand Written Data Recognition Using Logistic Regression.ipynb should be executed first or else\n",
    "#FileNotFOundError occurs for the pickle files\n",
    "from six.moves import cPickle as pickle\n",
    "import os\n",
    "import time as t\n",
    "from sklearn.metrics import accuracy_score\n",
    "'''\n",
    "    'train_dataset': train_dataset,\n",
    "    'train_labels': train_labels,\n",
    "    'valid_dataset': valid_dataset,\n",
    "    'valid_labels': valid_labels,\n",
    "    'test_dataset': test_dataset,\n",
    "    'test_labels': test_labels,\n",
    "'''\n",
    "from sklearn.svm import SVC\n",
    "Data=open('Data.pickle','rb')\n",
    "train_dataset=pickle.load(Data)['train_dataset']\n",
    "Data.seek(0)\n",
    "train_labels=pickle.load(Data)['train_labels']\n",
    "Data.seek(0)\n",
    "test_dataset=pickle.load(Data)['test_dataset']\n",
    "Data.seek(0)\n",
    "test_dataset=pickle.load(Data)['test_labels']\n",
    "Data.close()\n",
    "clf='SVC.pickle'\n",
    "\n",
    "if clf in os.listdir(os.getcwd()):\n",
    "    print('Classifier Already Present')\n",
    "    f=open(clf,'rb')\n",
    "    clf=pickle.load(f)\n",
    "    print(clf)\n",
    "else:\n",
    "    clf=SVC()\n",
    "    train_dataset=train_dataset.reshape((train_dataset.shape[0],train_dataset.shape[1]*train_dataset.shape[2]))\n",
    "    print(train_dataset.shape)\n",
    "    print(train_labels.shape)\n",
    "    A=t.time()\n",
    "    print('Training start time',t.time())\n",
    "    clf.fit(train_dataset,train_labels)\n",
    "    print('Training End Time time',t.time())\n",
    "    print('Time taken',t.time()-A,'seconds')\n",
    "    A=t.time()\n",
    "    print('Prediction start time',t.time())\n",
    "    print('Train_Accuracy',accuracy_score(train_labels,clf.predict(train_dataset)))\n",
    "    print('Prediction time taken',t.time()-A,'seconds')\n",
    "    f=open('SVC.pickle','wb')\n",
    "    pickle.dump(clf,f,pickle.HIGHEST_PROTOCOL)\n",
    "    f.close()\n"
   ]
  },
  {
   "cell_type": "code",
   "execution_count": 2,
   "metadata": {},
   "outputs": [
    {
     "name": "stdout",
     "output_type": "stream",
     "text": [
      "(50000, 784)\n",
      "(50000,)\n"
     ]
    }
   ],
   "source": [
    "print(train_dataset.shape)\n",
    "print(train_labels.shape)"
   ]
  },
  {
   "cell_type": "code",
   "execution_count": 3,
   "metadata": {},
   "outputs": [
    {
     "name": "stdout",
     "output_type": "stream",
     "text": [
      "C:\\Users\\Dwijraj\\Hand Written MNIST\n",
      "(900,)\n",
      "(900, 28, 28)\n",
      "Prediction start time 1509894663.9469447\n",
      "Test set accuracy 0.931111111111\n",
      "Prediction time taken 17.722114324569702 seconds\n"
     ]
    }
   ],
   "source": [
    "import pickle\n",
    "import os\n",
    "from sklearn.metrics import accuracy_score\n",
    "print(os.getcwd())\n",
    "f=open('SVC.pickle','rb')\n",
    "Clf=pickle.load(f)\n",
    "Data=open('Data.pickle','rb')\n",
    "test_data=pickle.load(Data)['test_dataset']\n",
    "Data.close()\n",
    "Data=open('Data.pickle','rb')\n",
    "test_labels=pickle.load(Data)['test_labels']\n",
    "print(test_labels.shape)\n",
    "print(test_data.shape)\n",
    "test_data=test_data.reshape((test_data.shape[0],test_data.shape[1]*test_data.shape[2]))\n",
    "A=t.time()\n",
    "print('Prediction start time',t.time())\n",
    "print('Test set accuracy',accuracy_score(test_labels,Clf.predict(test_data)))\n",
    "print('Prediction time taken',t.time()-A,'seconds')\n",
    "Data.close()"
   ]
  },
  {
   "cell_type": "code",
   "execution_count": 5,
   "metadata": {},
   "outputs": [
    {
     "name": "stdout",
     "output_type": "stream",
     "text": [
      "SVC(C=1.0, cache_size=200, class_weight=None, coef0=0.0,\n",
      "  decision_function_shape='ovr', degree=3, gamma='auto', kernel='rbf',\n",
      "  max_iter=-1, probability=False, random_state=None, shrinking=True,\n",
      "  tol=0.001, verbose=False)\n"
     ]
    }
   ],
   "source": [
    "f=open('SVC.pickle','rb')\n",
    "Clf=pickle.load(f)\n",
    "print(Clf)"
   ]
  },
  {
   "cell_type": "code",
   "execution_count": null,
   "metadata": {},
   "outputs": [],
   "source": []
  }
 ],
 "metadata": {
  "kernelspec": {
   "display_name": "Python 3",
   "language": "python",
   "name": "python3"
  },
  "language_info": {
   "codemirror_mode": {
    "name": "ipython",
    "version": 3
   },
   "file_extension": ".py",
   "mimetype": "text/x-python",
   "name": "python",
   "nbconvert_exporter": "python",
   "pygments_lexer": "ipython3",
   "version": "3.6.1"
  }
 },
 "nbformat": 4,
 "nbformat_minor": 2
}
