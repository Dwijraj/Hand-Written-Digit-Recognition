{
 "cells": [
  {
   "cell_type": "code",
   "execution_count": 1,
   "metadata": {},
   "outputs": [],
   "source": [
    "from __future__ import print_function\n",
    "import matplotlib.pyplot as plt\n",
    "import numpy as np\n",
    "import os\n",
    "import sys\n",
    "import tarfile\n",
    "from IPython.display import display, Image\n",
    "from scipy import ndimage\n",
    "from six.moves.urllib.request import urlretrieve\n",
    "from six.moves import cPickle as pickle\n",
    "import tensorflow as tf\n",
    "\n",
    "from sklearn.linear_model import LogisticRegressionCV\n",
    "from sklearn.metrics import accuracy_score\n",
    "# Config the matplotlib backend as plotting inline in IPython\n",
    "%matplotlib inline"
   ]
  },
  {
   "cell_type": "code",
   "execution_count": 2,
   "metadata": {},
   "outputs": [],
   "source": [
    "f=open('Data.pickle','rb')\n",
    "Data=open('Data.pickle','rb')\n",
    "train_dataset=pickle.load(Data)['train_dataset']\n",
    "Data.seek(0)\n",
    "train_labels=pickle.load(Data)['train_labels']\n",
    "Data.seek(0)\n",
    "test_dataset=pickle.load(Data)['test_dataset']\n",
    "Data.seek(0)\n",
    "test_labels=pickle.load(Data)['test_labels']\n",
    "Data.close()"
   ]
  },
  {
   "cell_type": "code",
   "execution_count": 3,
   "metadata": {},
   "outputs": [
    {
     "name": "stdout",
     "output_type": "stream",
     "text": [
      "(50000, 28, 28)\n"
     ]
    }
   ],
   "source": [
    "print(train_dataset.shape)"
   ]
  },
  {
   "cell_type": "code",
   "execution_count": 4,
   "metadata": {},
   "outputs": [],
   "source": [
    "train_dataset=train_dataset.reshape(train_dataset.shape[0],-1).T\n",
    "train_labels=train_labels.reshape(train_labels.shape[0],-1).T\n",
    "test_dataset=train_dataset.reshape(test_dataset.shape[0],-1).T\n",
    "test_labels=train_labels.reshape(test_labels.shape[0],-1).T"
   ]
  },
  {
   "cell_type": "code",
   "execution_count": 5,
   "metadata": {},
   "outputs": [],
   "source": [
    "def One_hot_encoder(labels,C):\n",
    "    C=tf.constant(C,dtype=tf.int32,name='C')\n",
    "    encoded=tf.one_hot(labels,C)\n",
    "    with tf.Session() as sess:\n",
    "        return sess.run(encoded)"
   ]
  },
  {
   "cell_type": "code",
   "execution_count": 6,
   "metadata": {},
   "outputs": [
    {
     "name": "stdout",
     "output_type": "stream",
     "text": [
      "(50000, 10)\n",
      "(784, 50000)\n"
     ]
    }
   ],
   "source": [
    "Train_labels=One_hot_encoder(train_labels,10)\n",
    "#rint(Train_labels.shape)\n",
    "Train_labels=Train_labels[0]\n",
    "print(Train_labels.shape)\n",
    "#rint(train_labels[0])\n",
    "#rint(Train_labels[0][0])\n",
    "print(train_dataset.shape)"
   ]
  },
  {
   "cell_type": "code",
   "execution_count": 7,
   "metadata": {},
   "outputs": [],
   "source": [
    "total_layers=5\n",
    "Layer_Units={0:5,1:7,2:8,3:7,4:10}\n",
    "parameters={}\n",
    "for i in Layer_Units:\n",
    "    num=i+1\n",
    "    weight=\"W\"+str(num)\n",
    "    bias='b'+str(num)\n",
    "    if i==0:\n",
    "        parameters[weight]=tf.get_variable(weight,[Layer_Units[i],784],initializer=tf.contrib.layers.xavier_initializer(seed=1))\n",
    "        parameters[bias] = tf.get_variable(bias, [Layer_Units[i], 1], initializer = tf.zeros_initializer())\n",
    "    else:\n",
    "        parameters[weight]=tf.get_variable(weight,[Layer_Units[i],Layer_Units[i-1]],initializer=tf.contrib.layers.xavier_initializer(seed=1)) \n",
    "        parameters[bias] = tf.get_variable(bias, [Layer_Units[i], 1], initializer = tf.zeros_initializer())"
   ]
  },
  {
   "cell_type": "code",
   "execution_count": 9,
   "metadata": {},
   "outputs": [],
   "source": [
    "a=0\n",
    "z=0\n",
    "for i in Layer_Units:\n",
    "        num=i+1\n",
    "        if i==0:\n",
    "            z=tf.add(tf.matmul(parameters['W'+str(num)],train_dataset),parameters['b'+str(num)])\n",
    "            a=tf.nn.relu(z)   \n",
    "        elif i==total_layers-1:\n",
    "            z=tf.add(tf.matmul(parameters['W'+str(num)],a),parameters['b'+str(num)])\n",
    "        else:\n",
    "            z=tf.add(tf.matmul(parameters['W'+str(num)],a),parameters['b'+str(num)])\n",
    "            a=tf.nn.relu(z)"
   ]
  },
  {
   "cell_type": "code",
   "execution_count": 11,
   "metadata": {},
   "outputs": [
    {
     "name": "stdout",
     "output_type": "stream",
     "text": [
      "(50000, 10)\n",
      "(50000, 10)\n",
      "Tensor(\"Mean:0\", shape=(), dtype=float32)\n"
     ]
    }
   ],
   "source": [
    "logits = tf.transpose(z)\n",
    "labels = Train_labels\n",
    "print(logits.shape)\n",
    "print(labels.shape)\n",
    "cost = tf.reduce_mean(tf.nn.softmax_cross_entropy_with_logits(logits = logits, labels =labels))\n",
    "print(cost)"
   ]
  },
  {
   "cell_type": "code",
   "execution_count": null,
   "metadata": {},
   "outputs": [],
   "source": []
  }
 ],
 "metadata": {
  "kernelspec": {
   "display_name": "Python 3",
   "language": "python",
   "name": "python3"
  },
  "language_info": {
   "codemirror_mode": {
    "name": "ipython",
    "version": 3
   },
   "file_extension": ".py",
   "mimetype": "text/x-python",
   "name": "python",
   "nbconvert_exporter": "python",
   "pygments_lexer": "ipython3",
   "version": "3.6.1"
  }
 },
 "nbformat": 4,
 "nbformat_minor": 2
}
